{
 "cells": [
  {
   "cell_type": "code",
   "execution_count": 1,
   "id": "582ae138-a8da-4344-8dbf-e8b21b289dfa",
   "metadata": {},
   "outputs": [],
   "source": [
    "system =  {\"role\": \"system\",\n",
    "\"content\": f'''\n",
    "你是一个事实核查专家，事实核查分为事实验证和解释生成两个任务。\n",
    "你可以将事实验证理解为判断一个说法是否是真实的，将解释生成理解为对这个说法的真实性作出解释，表明这个说法为什么是对的/错的/证据不充分的。\n",
    "现在我提供给你当前说法，一个黄金解释1，以及一个生成解释2。\n",
    "你的任务是判断黄金解释1和生成解释2之间的一致性，并将其量化为一个分数。\n",
    "这个分数有5个等级，即你打分的范围在1～5。\n",
    "接下来我将给你具体分数等级的含义：\n",
    "1:真实性不一致，例如黄金解释1里有“该说法是正确的”，而生成解释2里是“该说法是错误的”，并且解释内容也完全不相关。\n",
    "2:真实性不一致，但解释内容相关。\n",
    "3:真实性一致，解释内容不相关。\n",
    "4:真实性一致，解释内容部分相关。\n",
    "5:真实性一致，解释内容完全相关。\n",
    "请你根据当前说法，一个黄金解释1，以及一个生成解释2量化一个一致性分数。\n",
    "注意，你的输出只为一个阿拉伯数据，其范围为1～5。\n",
    "注意：这里的完全相关不是指文本内容完全一样，是指意思一样，文本内容很相近即可。\n",
    "'''} "
   ]
  },
  {
   "cell_type": "code",
   "execution_count": 9,
   "id": "3f097b13-d03c-4ba7-b00f-7f94e5d60392",
   "metadata": {},
   "outputs": [
    {
     "name": "stdout",
     "output_type": "stream",
     "text": [
      "The history saving thread hit an unexpected error (OperationalError('attempt to write a readonly database')).History will not be written to the database.\n"
     ]
    }
   ],
   "source": [
    "import requests \n",
    "import json\n",
    "def gen_result(system,message,temperature):\n",
    "    url = \"\"\n",
    "   \n",
    "    \n",
    "    messages = [\n",
    "            system,\n",
    "            {\"role\": \"user\", \"content\": message},\n",
    "    ]\n",
    "    api_key = \"\"\n",
    "    headers = {\n",
    "        \"Authorization\": f\"Bearer {api_key}\",\n",
    "        \"Content-Type\": \"application/json\",\n",
    "    }\n",
    "    \n",
    "    model = 'gpt-4-0125-preview'#\"gpt-4-0125-preview\"#'GPT-3.5-Turbo-1106'#\"gpt-4-0125-preview\"#'GPT-3.5-Turbo-1106'#\"gpt-4-0125-preview\"#'gpt-4-0125-preview'#\"GPT-3.5-Turbo-1106\"#\"gpt-4-1106-preview\"\n",
    "    \n",
    "    data = {\n",
    "        \"model\": model,\n",
    "        \"messages\": messages,\n",
    "        \"temperature\":temperature,\n",
    "        # \"tenant\":\"intelligentInteraction\",\n",
    "        # \"velenOfflineChatFlag\":\"false\"\n",
    "    }\n",
    "    content = json.dumps(data)\n",
    "    \n",
    "    try:\n",
    "        response = requests.post(url, headers=headers, data=content)\n",
    "        reply = response.json()['choices'][0]['message']['content']\n",
    "        return 1,reply\n",
    "    except Exception as e:\n",
    "        print(e)\n",
    "        return 0,\"\"\n",
    "\n",
    "def request_result(system,message,temperature):\n",
    "    max_retry_nums = 3\n",
    "    cnt = 0\n",
    "    res = \"\"\n",
    "    while(cnt<=max_retry_nums):\n",
    "        flag,res = gen_result(system,message,temperature)\n",
    "        if flag==1:\n",
    "            try:\n",
    "                # load_res = json.loads(res)\n",
    "                break\n",
    "            except:\n",
    "                cnt+=1\n",
    "        else:\n",
    "            cnt+=1\n",
    "            \n",
    "    return res"
   ]
  },
  {
   "cell_type": "code",
   "execution_count": 187,
   "id": "ed8063f9-bb35-4f0d-b967-b3165d762351",
   "metadata": {},
   "outputs": [],
   "source": [
    "import json\n",
    "\n",
    "with open('../../data/CHEF-EG/test.json','r') as f:\n",
    "    eval_data = json.load(f)\n",
    "    # eval_data = [data['human_revision'] if data['human_revision'] !=\"\" else data['explanation'] for data in eval_data]\n",
    "    gold_explanation_list = [data['human_revision'] for data in eval_data]\n",
    "    claim_list = [data['claim'] for data in eval_data]\n",
    "\n",
    "now_path = '../test_result/stage2/Qwen2_stage2_train_ep4_rank128_lr3e-4/beam1/EGP_results.json'\n",
    "\n",
    "with open(now_path,'r') as f:\n",
    "    pred_dict = json.load(f)\n",
    "    \n",
    "pred_explanation_list = [pred_dict[str(i)] for i in range(len(eval_data))]"
   ]
  },
  {
   "cell_type": "code",
   "execution_count": 188,
   "id": "46f13a46-af46-4434-a1e2-e3f18c9c1244",
   "metadata": {},
   "outputs": [
    {
     "data": {
      "text/plain": [
       "'空气中有碘化银漂浮物会危害健康。'"
      ]
     },
     "execution_count": 188,
     "metadata": {},
     "output_type": "execute_result"
    }
   ],
   "source": [
    "claim_list[0]"
   ]
  },
  {
   "cell_type": "code",
   "execution_count": 189,
   "id": "2c3e89c6-add2-4239-91a1-8c5c6f20dbf3",
   "metadata": {},
   "outputs": [
    {
     "data": {
      "text/plain": [
       "'证据1中明确指出，虽然碘化银被用作人工增雨(雪)的催化剂，但其使用量极小，每平方公里只有一克碘化银，并且是在很大的区域内分散使用，单位面积的含量微乎其微，几乎可以忽略不计。此外，济南市气象局官方微博回应称，在人工影响天气中使用的碘化银不会对环境和人体造成伤害。证据2中提到，产生的银离子含量远低于世卫组织标准和我国生活饮用水卫生标准，因此不会对人体健康构成威胁。综上所述，空气中的碘化银漂浮物在人工增雨(雪)作业中的使用量极小，且其对人体健康的影响远低于安全标准，因此该说法是错误的。'"
      ]
     },
     "execution_count": 189,
     "metadata": {},
     "output_type": "execute_result"
    }
   ],
   "source": [
    "gold_explanation_list[0]"
   ]
  },
  {
   "cell_type": "code",
   "execution_count": 190,
   "id": "0a6ca903-d20a-4953-bb74-2d0355e6eacb",
   "metadata": {},
   "outputs": [
    {
     "data": {
      "text/plain": [
       "'证据中明确指出，碘化银作为人工增雨（雪）的催化剂，在使用过程中，其释放的催化剂量非常少，且分布范围非常广，因此单位面积内的含量几乎可以忽略不计。此外，人工增雨（雪）是一个微物理过程，而不是产生新物质的化学变化。尽管碘化银中的银离子是重金属，但是在实际应用中使用的量极少，因此不会对人体和环境造成危害。因此，该说法是错误的。'"
      ]
     },
     "execution_count": 190,
     "metadata": {},
     "output_type": "execute_result"
    }
   ],
   "source": [
    "pred_explanation_list[0]"
   ]
  },
  {
   "cell_type": "code",
   "execution_count": 191,
   "id": "ff0ce1ac-0a1c-41e5-a079-101fde73c062",
   "metadata": {},
   "outputs": [],
   "source": [
    "def get_user_message(claim,gold_explanation,pred_explanation):\n",
    "    user_message = f'当前说法为：{claim}\\n'\n",
    "    user_message += f'黄金解释1为：{gold_explanation}\\n'\n",
    "    user_message += f'生成解释2为：{pred_explanation}'\n",
    "    return user_message"
   ]
  },
  {
   "cell_type": "code",
   "execution_count": 192,
   "id": "bbcec6be-8a44-412a-9f01-c06508ebc66e",
   "metadata": {
    "scrolled": true
   },
   "outputs": [
    {
     "name": "stdout",
     "output_type": "stream",
     "text": [
      "5\n",
      "5\n",
      "5\n",
      "5\n",
      "4\n",
      "5\n",
      "5\n",
      "5\n",
      "5\n",
      "2\n",
      "5\n",
      "5\n",
      "5\n",
      "4\n",
      "2\n",
      "4\n",
      "5\n",
      "5\n",
      "5\n",
      "5\n",
      "4\n",
      "5\n",
      "5\n",
      "5\n",
      "5\n",
      "5\n",
      "5\n",
      "5\n",
      "5\n",
      "5\n",
      "5\n",
      "5\n",
      "5\n",
      "4\n",
      "5\n",
      "5\n",
      "5\n",
      "5\n",
      "5\n",
      "5\n",
      "5\n",
      "5\n",
      "5\n",
      "5\n",
      "4\n",
      "5\n",
      "5\n",
      "5\n",
      "2\n",
      "5\n",
      "5\n",
      "5\n",
      "5\n",
      "2\n",
      "5\n",
      "5\n",
      "5\n",
      "5\n",
      "5\n",
      "5\n",
      "5\n",
      "5\n",
      "5\n",
      "5\n",
      "5\n",
      "5\n",
      "5\n",
      "5\n",
      "5\n",
      "5\n",
      "5\n",
      "5\n",
      "5\n",
      "5\n",
      "5\n",
      "5\n",
      "5\n",
      "2\n",
      "5\n",
      "2\n",
      "5\n",
      "2\n",
      "5\n",
      "5\n",
      "5\n",
      "5\n",
      "5\n",
      "5\n",
      "4\n",
      "5\n",
      "4\n",
      "2\n",
      "5\n",
      "5\n",
      "3\n",
      "5\n",
      "5\n",
      "5\n",
      "5\n",
      "5\n",
      "5\n",
      "4\n",
      "5\n",
      "4\n",
      "2\n",
      "5\n",
      "5\n",
      "5\n",
      "5\n",
      "5\n",
      "2\n",
      "5\n",
      "5\n",
      "5\n",
      "5\n",
      "2\n",
      "5\n",
      "5\n",
      "5\n",
      "5\n",
      "5\n",
      "5\n",
      "5\n",
      "5\n",
      "1\n",
      "5\n",
      "5\n",
      "2\n",
      "5\n",
      "5\n",
      "5\n",
      "5\n",
      "5\n",
      "5\n",
      "5\n",
      "4\n",
      "5\n",
      "5\n",
      "5\n",
      "5\n",
      "5\n",
      "5\n",
      "5\n",
      "5\n",
      "5\n",
      "4\n",
      "5\n",
      "5\n",
      "4\n",
      "5\n",
      "5\n",
      "5\n",
      "5\n",
      "5\n",
      "5\n",
      "5\n",
      "1\n",
      "5\n",
      "5\n",
      "5\n",
      "5\n",
      "5\n",
      "5\n",
      "5\n",
      "5\n",
      "5\n",
      "5\n",
      "5\n",
      "5\n",
      "2\n",
      "5\n",
      "5\n",
      "5\n",
      "5\n",
      "5\n",
      "5\n",
      "5\n",
      "5\n",
      "5\n",
      "5\n",
      "5\n",
      "5\n",
      "5\n",
      "5\n",
      "5\n",
      "5\n",
      "5\n",
      "5\n",
      "5\n",
      "5\n",
      "5\n",
      "5\n",
      "5\n",
      "5\n",
      "5\n",
      "5\n",
      "5\n",
      "2\n",
      "5\n",
      "5\n",
      "5\n",
      "5\n",
      "4\n",
      "5\n",
      "5\n",
      "5\n",
      "5\n",
      "5\n",
      "5\n",
      "5\n",
      "5\n",
      "5\n",
      "4\n",
      "5\n",
      "5\n",
      "5\n",
      "5\n",
      "5\n",
      "5\n",
      "5\n",
      "5\n",
      "5\n",
      "5\n",
      "5\n",
      "5\n",
      "5\n",
      "5\n",
      "5\n",
      "4\n",
      "5\n",
      "5\n"
     ]
    }
   ],
   "source": [
    "scores = []\n",
    "for idx,(claim,gold_explanation,pred_explanation) in enumerate(zip(claim_list,gold_explanation_list,pred_explanation_list)):\n",
    "    if pred_explanation=='':\n",
    "        continue\n",
    "    res = request_result(system,get_user_message(claim,gold_explanation,pred_explanation),0.0)\n",
    "    if res=='':\n",
    "        continue\n",
    "    scores.append(res)\n",
    "    print(res)"
   ]
  },
  {
   "cell_type": "code",
   "execution_count": 193,
   "id": "91b5a43a-b9b1-4c49-9da7-da8bbd01d068",
   "metadata": {},
   "outputs": [
    {
     "data": {
      "text/plain": [
       "0.9411255411255411"
      ]
     },
     "execution_count": 193,
     "metadata": {},
     "output_type": "execute_result"
    }
   ],
   "source": [
    "scores = [int(score) for score in scores]\n",
    "sum(scores)/len(scores) * 0.2"
   ]
  },
  {
   "cell_type": "code",
   "execution_count": 186,
   "id": "127d1917-66a4-4596-9dbe-920921adaaaf",
   "metadata": {},
   "outputs": [
    {
     "data": {
      "text/plain": [
       "0.8477386934673368"
      ]
     },
     "execution_count": 186,
     "metadata": {},
     "output_type": "execute_result"
    }
   ],
   "source": [
    "scores = [int(score) for score in scores]\n",
    "sum(scores)/len(scores) * 0.2"
   ]
  },
  {
   "cell_type": "code",
   "execution_count": 179,
   "id": "7c85f1b4-6cdb-4b8a-bd99-458c470bc5c6",
   "metadata": {},
   "outputs": [
    {
     "data": {
      "text/plain": [
       "0.842211055276382"
      ]
     },
     "execution_count": 179,
     "metadata": {},
     "output_type": "execute_result"
    }
   ],
   "source": [
    "scores = [int(score) for score in scores]\n",
    "sum(scores)/len(scores) * 0.2"
   ]
  },
  {
   "cell_type": "code",
   "execution_count": 172,
   "id": "8bd551b0-7856-448f-ae56-56e2a38ac9ed",
   "metadata": {},
   "outputs": [
    {
     "data": {
      "text/plain": [
       "0.8503778337531487"
      ]
     },
     "execution_count": 172,
     "metadata": {},
     "output_type": "execute_result"
    }
   ],
   "source": [
    "scores = [int(score) for score in scores]\n",
    "sum(scores)/len(scores) * 0.2"
   ]
  },
  {
   "cell_type": "code",
   "execution_count": 165,
   "id": "550b7dee-638e-4078-a216-b0f8fdc9a10a",
   "metadata": {},
   "outputs": [
    {
     "data": {
      "text/plain": [
       "0.9367965367965368"
      ]
     },
     "execution_count": 165,
     "metadata": {},
     "output_type": "execute_result"
    }
   ],
   "source": [
    "scores = [int(score) for score in scores]\n",
    "sum(scores)/len(scores) * 0.2"
   ]
  },
  {
   "cell_type": "code",
   "execution_count": 158,
   "id": "f98d828b-3e58-4193-ac04-bd699c734f10",
   "metadata": {},
   "outputs": [
    {
     "data": {
      "text/plain": [
       "0.8498740554156172"
      ]
     },
     "execution_count": 158,
     "metadata": {},
     "output_type": "execute_result"
    }
   ],
   "source": [
    "scores = [int(score) for score in scores]\n",
    "sum(scores)/len(scores) * 0.2"
   ]
  },
  {
   "cell_type": "code",
   "execution_count": 18,
   "id": "a9ba88f1-0f05-4c22-8901-3f314ea6e79a",
   "metadata": {},
   "outputs": [
    {
     "data": {
      "text/plain": [
       "0.8839195979899497"
      ]
     },
     "execution_count": 18,
     "metadata": {},
     "output_type": "execute_result"
    }
   ],
   "source": [
    "scores = [int(score) for score in scores]\n",
    "sum(scores)/len(scores) * 0.2"
   ]
  },
  {
   "cell_type": "code",
   "execution_count": 25,
   "id": "d244f2b6-b596-4896-95b0-828d26e6c231",
   "metadata": {},
   "outputs": [
    {
     "data": {
      "text/plain": [
       "0.8909547738693467"
      ]
     },
     "execution_count": 25,
     "metadata": {},
     "output_type": "execute_result"
    }
   ],
   "source": [
    "scores = [int(score) for score in scores]\n",
    "sum(scores)/len(scores) * 0.2"
   ]
  },
  {
   "cell_type": "code",
   "execution_count": 32,
   "id": "3b6189eb-be5f-4376-8941-eb11209a420c",
   "metadata": {},
   "outputs": [
    {
     "data": {
      "text/plain": [
       "0.7969773299748111"
      ]
     },
     "execution_count": 32,
     "metadata": {},
     "output_type": "execute_result"
    }
   ],
   "source": [
    "scores = [int(score) for score in scores]\n",
    "sum(scores)/len(scores) * 0.2"
   ]
  },
  {
   "cell_type": "code",
   "execution_count": 39,
   "id": "dffc342c-ed38-4f52-b40a-f615ccefeb59",
   "metadata": {},
   "outputs": [
    {
     "data": {
      "text/plain": [
       "0.799497487437186"
      ]
     },
     "execution_count": 39,
     "metadata": {},
     "output_type": "execute_result"
    }
   ],
   "source": [
    "scores = [int(score) for score in scores]\n",
    "sum(scores)/len(scores) * 0.2"
   ]
  },
  {
   "cell_type": "code",
   "execution_count": 46,
   "id": "7b8bb478-bc6b-4b1c-880d-df6d4227303c",
   "metadata": {},
   "outputs": [
    {
     "data": {
      "text/plain": [
       "0.9454545454545455"
      ]
     },
     "execution_count": 46,
     "metadata": {},
     "output_type": "execute_result"
    }
   ],
   "source": [
    "scores = [int(score) for score in scores]\n",
    "sum(scores)/len(scores) * 0.2"
   ]
  },
  {
   "cell_type": "code",
   "execution_count": 53,
   "id": "3414529d-6ba4-4405-b5c0-66333752b20d",
   "metadata": {},
   "outputs": [
    {
     "data": {
      "text/plain": [
       "0.951304347826087"
      ]
     },
     "execution_count": 53,
     "metadata": {},
     "output_type": "execute_result"
    }
   ],
   "source": [
    "scores = [int(score) for score in scores]\n",
    "sum(scores)/len(scores) * 0.2"
   ]
  },
  {
   "cell_type": "code",
   "execution_count": 60,
   "id": "e7991911-c013-4d8a-8670-b83b54f149c4",
   "metadata": {},
   "outputs": [
    {
     "data": {
      "text/plain": [
       "0.9471861471861471"
      ]
     },
     "execution_count": 60,
     "metadata": {},
     "output_type": "execute_result"
    }
   ],
   "source": [
    "scores = [int(score) for score in scores]\n",
    "sum(scores)/len(scores) * 0.2"
   ]
  },
  {
   "cell_type": "code",
   "execution_count": 68,
   "id": "64d26769-4fce-46c5-82a8-1c14787824b8",
   "metadata": {},
   "outputs": [
    {
     "data": {
      "text/plain": [
       "0.9139130434782609"
      ]
     },
     "execution_count": 68,
     "metadata": {},
     "output_type": "execute_result"
    }
   ],
   "source": [
    "scores = [int(score) for score in scores if len(score)==1 ]\n",
    "sum(scores)/len(scores) * 0.2"
   ]
  },
  {
   "cell_type": "code",
   "execution_count": null,
   "id": "e6dd9e3f-1506-4efb-9213-65a13b3f926d",
   "metadata": {},
   "outputs": [],
   "source": []
  },
  {
   "cell_type": "code",
   "execution_count": 110,
   "id": "74d6c05f-6cbd-4631-a470-bf9f6293d97e",
   "metadata": {},
   "outputs": [
    {
     "data": {
      "text/plain": [
       "0.8517587939698492"
      ]
     },
     "execution_count": 110,
     "metadata": {},
     "output_type": "execute_result"
    }
   ],
   "source": [
    "###0\n",
    "scores = [int(score) for score in scores if len(score)==1 ]\n",
    "sum(scores)/len(scores) * 0.2"
   ]
  },
  {
   "cell_type": "code",
   "execution_count": 89,
   "id": "fea4adae-0996-45af-ae91-9be69d7a3a1a",
   "metadata": {},
   "outputs": [
    {
     "data": {
      "text/plain": [
       "0.8547738693467336"
      ]
     },
     "execution_count": 89,
     "metadata": {},
     "output_type": "execute_result"
    }
   ],
   "source": [
    "###1\n",
    "scores = [int(score) for score in scores if len(score)==1 ]\n",
    "sum(scores)/len(scores) * 0.2"
   ]
  },
  {
   "cell_type": "code",
   "execution_count": 96,
   "id": "bd958904-33a9-4268-b254-4428673fed23",
   "metadata": {},
   "outputs": [
    {
     "data": {
      "text/plain": [
       "0.8537688442211055"
      ]
     },
     "execution_count": 96,
     "metadata": {},
     "output_type": "execute_result"
    }
   ],
   "source": [
    "###2\n",
    "scores = [int(score) for score in scores if len(score)==1 ]\n",
    "sum(scores)/len(scores) * 0.2"
   ]
  },
  {
   "cell_type": "code",
   "execution_count": 103,
   "id": "235ecd0c-622e-4b8f-8994-2e304f441fb8",
   "metadata": {},
   "outputs": [
    {
     "data": {
      "text/plain": [
       "0.8537688442211055"
      ]
     },
     "execution_count": 103,
     "metadata": {},
     "output_type": "execute_result"
    }
   ],
   "source": [
    "###3\n",
    "scores = [int(score) for score in scores if len(score)==1 ]\n",
    "sum(scores)/len(scores) * 0.2"
   ]
  },
  {
   "cell_type": "code",
   "execution_count": 75,
   "id": "9b8a11b5-c730-48f7-abef-0f064b3c11ad",
   "metadata": {},
   "outputs": [
    {
     "data": {
      "text/plain": [
       "0.8597989949748744"
      ]
     },
     "execution_count": 75,
     "metadata": {},
     "output_type": "execute_result"
    }
   ],
   "source": [
    "###4\n",
    "scores = [int(score) for score in scores if len(score)==1 ]\n",
    "sum(scores)/len(scores) * 0.2"
   ]
  },
  {
   "cell_type": "code",
   "execution_count": 82,
   "id": "01213189-7dd4-4d76-8f0e-199e380ed307",
   "metadata": {},
   "outputs": [
    {
     "data": {
      "text/plain": [
       "0.8492462311557789"
      ]
     },
     "execution_count": 82,
     "metadata": {},
     "output_type": "execute_result"
    }
   ],
   "source": [
    "scores = [int(score) for score in scores if len(score)==1 ]\n",
    "sum(scores)/len(scores) * 0.2"
   ]
  },
  {
   "cell_type": "code",
   "execution_count": null,
   "id": "4b9523d1-ea45-4538-a8df-40d33f10d52d",
   "metadata": {},
   "outputs": [],
   "source": []
  },
  {
   "cell_type": "code",
   "execution_count": null,
   "id": "24019a2a-62f2-457a-9f8a-6ee9f2c3a40f",
   "metadata": {},
   "outputs": [],
   "source": []
  },
  {
   "cell_type": "code",
   "execution_count": 117,
   "id": "8ff3ab22-e0f3-4c4a-a67b-dfb2bb7b7924",
   "metadata": {},
   "outputs": [
    {
     "data": {
      "text/plain": [
       "0.9454545454545455"
      ]
     },
     "execution_count": 117,
     "metadata": {},
     "output_type": "execute_result"
    }
   ],
   "source": [
    "scores = [int(score) for score in scores]\n",
    "sum(scores)/len(scores) * 0.2"
   ]
  },
  {
   "cell_type": "code",
   "execution_count": 130,
   "id": "464c543d-51eb-4be1-8d72-dea0597f30df",
   "metadata": {},
   "outputs": [
    {
     "data": {
      "text/plain": [
       "0.9523809523809524"
      ]
     },
     "execution_count": 130,
     "metadata": {},
     "output_type": "execute_result"
    }
   ],
   "source": [
    "scores = [int(score) for score in scores]\n",
    "sum(scores)/len(scores) * 0.2"
   ]
  },
  {
   "cell_type": "code",
   "execution_count": 137,
   "id": "9d52375c-75a6-49e5-b8bd-661cd6291c91",
   "metadata": {},
   "outputs": [
    {
     "data": {
      "text/plain": [
       "0.9541125541125542"
      ]
     },
     "execution_count": 137,
     "metadata": {},
     "output_type": "execute_result"
    }
   ],
   "source": [
    "scores = [int(score) for score in scores]\n",
    "sum(scores)/len(scores) * 0.2"
   ]
  },
  {
   "cell_type": "code",
   "execution_count": null,
   "id": "be951844-9427-4ab2-8090-eda71fdb5f37",
   "metadata": {},
   "outputs": [],
   "source": []
  },
  {
   "cell_type": "code",
   "execution_count": null,
   "id": "d90a537e-4a5c-44c0-adab-b0283ba50cf7",
   "metadata": {},
   "outputs": [],
   "source": []
  },
  {
   "cell_type": "code",
   "execution_count": 144,
   "id": "f004a65c-8ca7-4d3c-94dc-d81b8a018dc5",
   "metadata": {},
   "outputs": [
    {
     "data": {
      "text/plain": [
       "0.8316582914572864"
      ]
     },
     "execution_count": 144,
     "metadata": {},
     "output_type": "execute_result"
    }
   ],
   "source": [
    "scores = [int(score) for score in scores]\n",
    "sum(scores)/len(scores) * 0.2"
   ]
  },
  {
   "cell_type": "code",
   "execution_count": null,
   "id": "79a48b7c-94f7-495f-bcd6-e92edd2840c3",
   "metadata": {},
   "outputs": [],
   "source": []
  }
 ],
 "metadata": {
  "kernelspec": {
   "display_name": "zxc",
   "language": "python",
   "name": "zxc"
  },
  "language_info": {
   "codemirror_mode": {
    "name": "ipython",
    "version": 3
   },
   "file_extension": ".py",
   "mimetype": "text/x-python",
   "name": "python",
   "nbconvert_exporter": "python",
   "pygments_lexer": "ipython3",
   "version": "3.8.19"
  }
 },
 "nbformat": 4,
 "nbformat_minor": 5
}
